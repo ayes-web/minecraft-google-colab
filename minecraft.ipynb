{
  "nbformat": 4,
  "nbformat_minor": 0,
  "metadata": {
    "colab": {
      "name": "minecraft",
      "provenance": [],
      "toc_visible": true
    },
    "kernelspec": {
      "name": "python3",
      "display_name": "Python 3"
    },
    "language_info": {
      "name": "python"
    }
  },
  "cells": [
    {
      "cell_type": "code",
      "metadata": {
        "id": "IdN0CC_PxN5K",
        "cellView": "form"
      },
      "source": [
        "#@title Download & auth ngrok\n",
        "ngrok_token = \"\" #@param {type:\"string\"}\n",
        "!mkdir -p /drive/ngrok\n",
        "%cd /drive/ngrok\n",
        "!wget https://bin.equinox.io/c/4VmDzA7iaHb/ngrok-stable-linux-amd64.zip -O ngrok-stable-linux-amd64.zip\n",
        "!unzip -u ngrok-stable-linux-amd64.zip\n",
        "!cp /drive/ngrok/ngrok /ngrok\n",
        "!chmod +x /ngrok\n",
        "\n",
        "!/ngrok authtoken $ngrok_token\n",
        "print(\"\\nLogged in with \" + ngrok_token + \" token\")"
      ],
      "execution_count": null,
      "outputs": []
    },
    {
      "cell_type": "code",
      "metadata": {
        "id": "pH1-KNiCyXzH",
        "cellView": "form"
      },
      "source": [
        "#@title Save ngrok run config\n",
        "%%writefile /drive/ngrok/tcp25565.yml\n",
        "tunnels:\n",
        " tcp25565:\n",
        "    proto: tcp\n",
        "    addr: 25565\n",
        "    region: eu"
      ],
      "execution_count": null,
      "outputs": []
    },
    {
      "cell_type": "code",
      "metadata": {
        "id": "Bp2kiRgWzh5h",
        "cellView": "form"
      },
      "source": [
        "#@title Save ngrok run script\n",
        "%%writefile /drive/ngrok/run_ngrok.sh\n",
        "#!/bin/sh\n",
        "set -x\n",
        "/ngrok start --config ~/.ngrok2/ngrok.yml --log=stdout --config /drive/ngrok/tcp25565.yml \"$@\""
      ],
      "execution_count": null,
      "outputs": []
    },
    {
      "cell_type": "code",
      "metadata": {
        "id": "Q1xNoqZHzrgG",
        "cellView": "form"
      },
      "source": [
        "#@title start ngrok\n",
        "import os\n",
        "import requests\n",
        "import urllib.parse\n",
        "\n",
        "get_ipython().system_raw('bash /drive/ngrok-ssh/run_ngrok.sh tcp25565 &')\n",
        "\n",
        "def get_ngrok_info():\n",
        "  return requests.get('http://localhost:4040/api/tunnels').json()\n",
        "\n",
        "def get_ngrok_tunnels():\n",
        "  for tunnel in get_ngrok_info()['tunnels']:\n",
        "    name = tunnel['name']\n",
        "    yield name, tunnel\n",
        "\n",
        "def get_ngrok_tunnel(name):\n",
        "  for name1, tunnel in get_ngrok_tunnels():\n",
        "    if name == name1:\n",
        "      return tunnel\n",
        "\n",
        "def get_ngrok_url(name, local=False):\n",
        "  if local:\n",
        "    return get_ngrok_tunnel(name)['config']['addr']\n",
        "  else:\n",
        "    return get_ngrok_tunnel(name)['public_url']\n",
        "    \n",
        "print(get_ngrok_url('tcp25565'))"
      ],
      "execution_count": null,
      "outputs": []
    },
    {
      "cell_type": "code",
      "metadata": {
        "id": "VjXumrwX5Ets",
        "cellView": "form"
      },
      "source": [
        "#@title Downloads newer java version\n",
        "java_version =  15#@param {type:\"integer\"}\n",
        "\n",
        "!apt-get install -y wget apt-transport-https gnupg\n",
        "!wget https://adoptopenjdk.jfrog.io/adoptopenjdk/api/gpg/key/public\n",
        "!gpg --no-default-keyring --keyring ./adoptopenjdk-keyring.gpg --import public\n",
        "!gpg --no-default-keyring --keyring ./adoptopenjdk-keyring.gpg --export --output adoptopenjdk-archive-keyring.gpg\n",
        "\n",
        "!rm adoptopenjdk-keyring.gpg\n",
        "!mv adoptopenjdk-archive-keyring.gpg /usr/share/keyrings \n",
        "!echo \"deb [signed-by=/usr/share/keyrings/adoptopenjdk-archive-keyring.gpg] https://adoptopenjdk.jfrog.io/adoptopenjdk/deb bionic main\" | sudo tee /etc/apt/sources.list.d/adoptopenjdk.list\n",
        "!apt-get update\n",
        "!apt-get install adoptopenjdk-$java_version-hotspot"
      ],
      "execution_count": null,
      "outputs": []
    },
    {
      "cell_type": "code",
      "metadata": {
        "id": "gjRrH1CdvsNS",
        "cellView": "form"
      },
      "source": [
        "#@title minecraft server\n",
        "server_directory = \"/content/drive/MyDrive/minecraft-server/server2\" #@param {type:\"string\"}\n",
        "start_script = \"start.sh\" #@param {type:\"string\"}\n",
        "%cd $server_directory\n",
        "!bash $start_script"
      ],
      "execution_count": null,
      "outputs": []
    }
  ]
}