{
  "nbformat": 4,
  "nbformat_minor": 0,
  "metadata": {
    "colab": {
      "name": "minecraft",
      "provenance": [],
      "collapsed_sections": [],
      "toc_visible": true
    },
    "kernelspec": {
      "name": "python3",
      "display_name": "Python 3"
    },
    "language_info": {
      "name": "python"
    }
  },
  "cells": [
    {
      "cell_type": "code",
      "metadata": {
        "colab": {
          "base_uri": "https://localhost:8080/"
        },
        "cellView": "form",
        "id": "x8pOY9o4Qkj5",
        "outputId": "1e0d4b84-957a-4d7f-e25c-9fdbd1a3cb93"
      },
      "source": [
        "#@title Login to google drive\n",
        "from google.colab import drive\n",
        "drive.mount('/content/drive')"
      ],
      "execution_count": 1,
      "outputs": []
    },
    {
      "cell_type": "code",
      "metadata": {
        "colab": {
          "base_uri": "https://localhost:8080/"
        },
        "cellView": "form",
        "id": "dyTwKSfYR2o3",
        "outputId": "4e1acf9f-d23a-40bb-df27-02b034dcf240"
      },
      "source": [
        "#@title Start ngrok\n",
        "ngrok_token = \"\" #@param {type:\"string\"}\n",
        "\n",
        "!pip install pyngrok &> /dev/null\n",
        "from pyngrok import ngrok\n",
        "ngrok.set_auth_token(ngrok_token)\n",
        "\n",
        "ngrok.kill()\n",
        "http_tunnel = ngrok.connect(\"25565\", \"tcp\", region=\"eu\")\n",
        "\n",
        "print(ngrok.get_tunnels())"
      ],
      "execution_count": 32,
      "outputs": []
    },
    {
      "cell_type": "code",
      "metadata": {
        "id": "VjXumrwX5Ets",
        "cellView": "form",
        "colab": {
          "base_uri": "https://localhost:8080/"
        },
        "outputId": "63ab8c4d-0dc0-4531-a8c6-c7c53a2685f5"
      },
      "source": [
        "#@title Downloads newer java version\n",
        "java_version =  15#@param {type:\"integer\"}\n",
        "\n",
        "!apt-get install -y wget apt-transport-https gnupg &> /dev/null\n",
        "!wget https://adoptopenjdk.jfrog.io/adoptopenjdk/api/gpg/key/public &> /dev/null\n",
        "!gpg --no-default-keyring --keyring ./adoptopenjdk-keyring.gpg --import public &> /dev/null\n",
        "!gpg --no-default-keyring --keyring ./adoptopenjdk-keyring.gpg --export --output adoptopenjdk-archive-keyring.gpg &> /dev/null\n",
        "\n",
        "!rm adoptopenjdk-keyring.gpg &> /dev/null\n",
        "!mv adoptopenjdk-archive-keyring.gpg /usr/share/keyrings &> /dev/null\n",
        "!echo \"deb [signed-by=/usr/share/keyrings/adoptopenjdk-archive-keyring.gpg] https://adoptopenjdk.jfrog.io/adoptopenjdk/deb bionic main\" | sudo tee /etc/apt/sources.list.d/adoptopenjdk.list &> /dev/null\n",
        "!apt-get update &> /dev/null\n",
        "!apt-get install adoptopenjdk-$java_version-hotspot &> /dev/null"
      ],
      "execution_count": 27,
      "outputs": []
    },
    {
      "cell_type": "code",
      "metadata": {
        "id": "gjRrH1CdvsNS",
        "cellView": "form",
        "colab": {
          "base_uri": "https://localhost:8080/"
        },
        "outputId": "ff1a5b14-8d39-48de-9cbc-c3e1575372c2"
      },
      "source": [
        "#@title minecraft server\n",
        "server_directory = \"/content/drive/MyDrive/minecraft-server/server2\" #@param {type:\"string\"}\n",
        "start_script = \"start.sh\" #@param {type:\"string\"}\n",
        "%cd $server_directory\n",
        "!bash $start_script"
      ],
      "execution_count": 28,
      "outputs": []
    }
  ]
}
